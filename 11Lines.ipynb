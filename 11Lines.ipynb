{
 "cells": [
  {
   "cell_type": "code",
   "execution_count": 7,
   "metadata": {
    "collapsed": false
   },
   "outputs": [
    {
     "name": "stdout",
     "output_type": "stream",
     "text": [
      "Populating the interactive namespace from numpy and matplotlib\n"
     ]
    }
   ],
   "source": [
    "%pylab inline\n",
    "from matplotlib import pyplot as plt"
   ]
  },
  {
   "cell_type": "markdown",
   "metadata": {},
   "source": [
    "A Neural Network in 11 lines of Python\n",
    "======================================\n",
    "\n",
    "From http://iamtrask.github.io/2015/07/12/basic-python-network/"
   ]
  },
  {
   "cell_type": "markdown",
   "metadata": {},
   "source": [
    "Simple 2 Layers NN\n",
    "----------------"
   ]
  },
  {
   "cell_type": "code",
   "execution_count": 2,
   "metadata": {
    "collapsed": false
   },
   "outputs": [
    {
     "name": "stdout",
     "output_type": "stream",
     "text": [
      "Output After Training:\n",
      "[[ 0.00966449]\n",
      " [ 0.00786506]\n",
      " [ 0.99358898]\n",
      " [ 0.99211957]]\n"
     ]
    },
    {
     "data": {
      "image/png": "[encoded data removed]",
      "text/plain": [
       "<matplotlib.figure.Figure at 0x7f10ecbcd748>"
      ]
     },
     "metadata": {},
     "output_type": "display_data"
    }
   ],
   "source": [
    "import numpy as np\n",
    "\n",
    "# sigmoid function\n",
    "def nonlin(x,deriv=False):\n",
    "    if(deriv==True):\n",
    "        return x*(1-x)\n",
    "    return 1/(1+np.exp(-x))\n",
    "    \n",
    "# input dataset\n",
    "X = np.array([  [0,0,1],\n",
    "                [0,1,1],\n",
    "                [1,0,1],\n",
    "                [1,1,1] ])\n",
    "    \n",
    "# output dataset            \n",
    "y = np.array([[0,0,1,1]]).T\n",
    "\n",
    "# seed random numbers to make calculation\n",
    "# deterministic (just a good practice)\n",
    "np.random.seed(1)\n",
    "\n",
    "# initialize weights randomly with mean 0\n",
    "syn0 = 2*np.random.random((3,1)) - 1\n",
    "\n",
    "plt.subplot(211)\n",
    "\n",
    "for iter in range(10000):\n",
    "\n",
    "    # forward propagation\n",
    "    l0 = X\n",
    "    l1 = nonlin(np.dot(l0,syn0))\n",
    "\n",
    "    # how much did we miss?\n",
    "    l1_error = y - l1\n",
    "\n",
    "    # multiply how much we missed by the \n",
    "    # slope of the sigmoid at the values in l1\n",
    "    l1_delta = l1_error * nonlin(l1,True)\n",
    "\n",
    "    # update weights\n",
    "    syn0 += np.dot(l0.T,l1_delta)\n",
    "    \n",
    "    plt.plot(range(1,5), l1, 'ob')\n",
    "    plt.hold(True)\n",
    "\n",
    "\n",
    "print(\"Output After Training:\")\n",
    "print(l1)\n",
    "\n",
    "plt.plot(range(1,5), y, 'or')\n",
    "plt.xlim([0, 5])\n",
    "plt.title(\"Evolution of l1 through iterations\")\n",
    "plt.subplot(212)\n",
    "plt.stem(range(1,5), y-l1)\n",
    "plt.xlim([0,5])\n",
    "plt.show()\n",
    "\n"
   ]
  },
  {
   "cell_type": "markdown",
   "metadata": {},
   "source": [
    "It works pretty well, let's now see how this simple implementation converges with respect to the number of iterations for the training.\n"
   ]
  },
  {
   "cell_type": "markdown",
   "metadata": {},
   "source": [
    "OO implementation\n",
    "---------------"
   ]
  },
  {
   "cell_type": "code",
   "execution_count": 3,
   "metadata": {
    "collapsed": true
   },
   "outputs": [],
   "source": [
    "class TwoLayersNN:\n",
    "    \n",
    "    def __init__(self, in_data, out_data):\n",
    "        \n",
    "        self.in_data = in_data\n",
    "        self.out_data = out_data\n",
    "        \n",
    "        self._init_synapses()\n",
    "        \n",
    "    def _init_synapses(self):\n",
    "        \n",
    "        self.syn0 = 2*np.random.random((len(self.in_data[0]), len(self.out_data[0]))) - 1\n",
    "        self.trained = False\n",
    "        \n",
    "        \n",
    "    def NL(self, x, deriv=False):\n",
    "        \n",
    "        if(deriv==True):\n",
    "            return x*(1-x)\n",
    "        return 1/(1+np.exp(-x))\n",
    "                \n",
    "    def train(self, iter_nb=10000):\n",
    "        \n",
    "        if self.trained:\n",
    "            self._init_synapses()\n",
    "        \n",
    "        for iter in range(iter_nb):\n",
    "            \n",
    "            l0 = self.in_data\n",
    "            l1 = self.NL(np.dot(l0, self.syn0))\n",
    "            \n",
    "            l1_error = self.out_data - l1\n",
    "            l1_delta = l1_error*self.NL(l1, True)\n",
    "            \n",
    "            self.syn0 += np.dot(l0.T, l1_delta)\n",
    "            \n",
    "        self.trained = True\n",
    "        return self.syn0\n",
    "            \n",
    "    def test(self, in_data, batch=True):\n",
    "        \n",
    "        if not batch:\n",
    "            in_data = [in_data]\n",
    "            \n",
    "        return self.NL(np.dot(in_data, self.syn0))"
   ]
  },
  {
   "cell_type": "markdown",
   "metadata": {},
   "source": [
    "Convergence Study\n",
    "---------------"
   ]
  },
  {
   "cell_type": "code",
   "execution_count": 4,
   "metadata": {
    "collapsed": false,
    "scrolled": true
   },
   "outputs": [
    {
     "name": "stdout",
     "output_type": "stream",
     "text": [
      "Training on 1 iterations\n",
      "Training on 201 iterations\n",
      "Training on 401 iterations\n",
      "Training on 601 iterations\n",
      "Training on 801 iterations\n",
      "Training on 1001 iterations\n",
      "Training on 1201 iterations\n",
      "Training on 1401 iterations\n",
      "Training on 1601 iterations\n",
      "Training on 1801 iterations\n",
      "Training on 2001 iterations\n",
      "Training on 2201 iterations\n",
      "Training on 2401 iterations\n",
      "Training on 2601 iterations\n",
      "Training on 2801 iterations\n",
      "Training on 3001 iterations\n",
      "Training on 3201 iterations\n",
      "Training on 3401 iterations\n",
      "Training on 3601 iterations\n",
      "Training on 3801 iterations\n",
      "Training on 4001 iterations\n",
      "Training on 4201 iterations\n",
      "Training on 4401 iterations\n",
      "Training on 4601 iterations\n",
      "Training on 4801 iterations\n",
      "Training on 5001 iterations\n",
      "Training on 5201 iterations\n",
      "Training on 5401 iterations\n",
      "Training on 5601 iterations\n",
      "Training on 5801 iterations\n",
      "Training on 6001 iterations\n",
      "Training on 6201 iterations\n",
      "Training on 6401 iterations\n",
      "Training on 6601 iterations\n",
      "Training on 6801 iterations\n",
      "Training on 7001 iterations\n",
      "Training on 7201 iterations\n",
      "Training on 7401 iterations\n",
      "Training on 7601 iterations\n",
      "Training on 7801 iterations\n",
      "Training on 8001 iterations\n",
      "Training on 8201 iterations\n",
      "Training on 8401 iterations\n",
      "Training on 8601 iterations\n",
      "Training on 8801 iterations\n",
      "Training on 9001 iterations\n",
      "Training on 9201 iterations\n",
      "Training on 9401 iterations\n",
      "Training on 9601 iterations\n",
      "Training on 9801 iterations\n",
      "Training on 10001 iterations\n",
      "Training on 10201 iterations\n",
      "Training on 10401 iterations\n",
      "Training on 10601 iterations\n",
      "Training on 10801 iterations\n",
      "Training on 11001 iterations\n",
      "Training on 11201 iterations\n",
      "Training on 11401 iterations\n",
      "Training on 11601 iterations\n",
      "Training on 11801 iterations\n",
      "Training on 12001 iterations\n",
      "Training on 12201 iterations\n",
      "Training on 12401 iterations\n",
      "Training on 12601 iterations\n",
      "Training on 12801 iterations\n",
      "Training on 13001 iterations\n",
      "Training on 13201 iterations\n",
      "Training on 13401 iterations\n",
      "Training on 13601 iterations\n",
      "Training on 13801 iterations\n",
      "Training on 14001 iterations\n",
      "Training on 14201 iterations\n",
      "Training on 14401 iterations\n",
      "Training on 14601 iterations\n",
      "Training on 14801 iterations\n",
      "Training on 15001 iterations\n",
      "Training on 15201 iterations\n",
      "Training on 15401 iterations\n",
      "Training on 15601 iterations\n",
      "Training on 15801 iterations\n",
      "Training on 16001 iterations\n",
      "Training on 16201 iterations\n",
      "Training on 16401 iterations\n",
      "Training on 16601 iterations\n",
      "Training on 16801 iterations\n",
      "Training on 17001 iterations\n",
      "Training on 17201 iterations\n",
      "Training on 17401 iterations\n",
      "Training on 17601 iterations\n",
      "Training on 17801 iterations\n",
      "Training on 18001 iterations\n",
      "Training on 18201 iterations\n",
      "Training on 18401 iterations\n",
      "Training on 18601 iterations\n",
      "Training on 18801 iterations\n",
      "Training on 19001 iterations\n",
      "Training on 19201 iterations\n",
      "Training on 19401 iterations\n",
      "Training on 19601 iterations\n",
      "Training on 19801 iterations\n"
     ]
    }
   ],
   "source": [
    "import numpy as np\n",
    "\n",
    "np.random.seed(1)\n",
    "\n",
    "# input dataset\n",
    "X = np.array([  [0,0,1],\n",
    "                [0,1,1],\n",
    "                [1,0,1],\n",
    "                [1,1,1] ])\n",
    "    \n",
    "# output dataset            \n",
    "y = np.array([[0,0,1,1]]).T\n",
    "\n",
    "iterations_numbers = list(range(1, 20000, 200))\n",
    "results = []\n",
    "\n",
    "\n",
    "NN = TwoLayersNN(X, y)\n",
    "\n",
    "for it in iterations_numbers:\n",
    "    print('Training on {} iterations'.format(it))\n",
    "    NN.train(it)\n",
    "    guesses = NN.test(X)\n",
    "    results.append(np.mean(np.power(np.abs(y - guesses), 2)))\n",
    "    "
   ]
  },
  {
   "cell_type": "code",
   "execution_count": 5,
   "metadata": {
    "collapsed": false,
    "scrolled": true
   },
   "outputs": [
    {
     "data": {
      "image/png": "[encoded data removed]",
      "text/plain": [
       "<matplotlib.figure.Figure at 0x7f10e63ba978>"
      ]
     },
     "metadata": {},
     "output_type": "display_data"
    }
   ],
   "source": [
    "plt.loglog(iterations_numbers, results)\n",
    "plt.xlabel('Number of iterations')\n",
    "plt.ylabel('Error |y - l1|^2')\n",
    "plt.grid(True)\n",
    "plt.show()"
   ]
  },
  {
   "cell_type": "markdown",
   "metadata": {},
   "source": [
    "### So what ?\n",
    "\n",
    "There's clearly 2 zones on the convergence diagram. An **interesting track** could be to **figure out why**.\n",
    "\n",
    "Another track leads to an analysis of the position of the bend : does it move ? Is it stable with respect to iterations ? to error order of magnitude ?\n",
    "\n",
    "Finnaly, it's possible to train a network and stop when overall $\\mathbb{L}_2$ error is below a *goal error*.\n"
   ]
  },
  {
   "cell_type": "markdown",
   "metadata": {},
   "source": [
    "## Stability of the slope singular point\n",
    "\n",
    "To be tested on different re-trained NN but also on a single n-times re-trained NN."
   ]
  },
  {
   "cell_type": "code",
   "execution_count": 6,
   "metadata": {
    "collapsed": false
   },
   "outputs": [],
   "source": [
    "# Let's re-use the above show code into a function\n",
    "# so one can re-run the same experiment multiple times\n",
    "\n",
    "\n",
    "def slope_singularity_exp(iterations_numbers, NN=None):\n",
    "    \"\"\"\n",
    "    Re-train the same NN for different numbers of training iterations.\n",
    "    Store and return the mean L2 distance between guesses and expected output\n",
    "    \n",
    "    If a NN instance is passed as a parameter, this network will be used \n",
    "    instead of creating a new one.\n",
    "    \"\"\"\n",
    "\n",
    "    if not NN:\n",
    "        NN = TwoLayersNN(X, y)\n",
    "\n",
    "    results = []\n",
    "    for it in iterations_numbers:\n",
    "        NN.train(it)\n",
    "        guesses = NN.test(X)\n",
    "        results.append(np.mean(np.power(np.abs(y - guesses), 2)))\n",
    "\n",
    "    return results"
   ]
  },
  {
   "cell_type": "markdown",
   "metadata": {},
   "source": [
    "###  Different NN"
   ]
  },
  {
   "cell_type": "code",
   "execution_count": 7,
   "metadata": {
    "collapsed": false
   },
   "outputs": [
    {
     "name": "stdout",
     "output_type": "stream",
     "text": [
      "Running experiment no.0\n",
      "Running experiment no.1\n",
      "Running experiment no.2\n",
      "Running experiment no.3\n",
      "Running experiment no.4\n"
     ]
    }
   ],
   "source": [
    "iterations_numbers = list(range(1, 20000, 250))\n",
    "\n",
    "global_results = []\n",
    "\n",
    "for i in range(5):\n",
    "    print(\"Running experiment no.{}\".format(i))\n",
    "    global_results.append(slope_singularity_exp(iterations_numbers))\n",
    "    "
   ]
  },
  {
   "cell_type": "code",
   "execution_count": 8,
   "metadata": {
    "collapsed": false,
    "scrolled": true
   },
   "outputs": [
    {
     "data": {
      "image/png": "[encoded data removed]",
      "text/plain": [
       "<matplotlib.figure.Figure at 0x7f10e635e2b0>"
      ]
     },
     "metadata": {},
     "output_type": "display_data"
    }
   ],
   "source": [
    "plt.figure()\n",
    "plt.hold(True)\n",
    "for res in global_results:\n",
    "    plt.loglog(iterations_numbers, res)\n",
    "\n",
    "plt.grid(True)\n",
    "plt.xlabel(\"Number of iterations\")\n",
    "plt.ylabel(\"Error as |y-l1|^2\")\n",
    "plt.show()"
   ]
  },
  {
   "cell_type": "markdown",
   "metadata": {},
   "source": [
    "It seems that different NN of the same type exhibit a bend at the same point. What's interesting at this point is that we now can infer the explanation for this bend point can be found in the underlying maths.\n",
    "\n",
    "At low numbers of training iterations, the results are slightly dispersed. This issue may be unseen using only one single NN."
   ]
  },
  {
   "cell_type": "markdown",
   "metadata": {},
   "source": [
    "###  Single NN"
   ]
  },
  {
   "cell_type": "code",
   "execution_count": 9,
   "metadata": {
    "collapsed": false
   },
   "outputs": [
    {
     "name": "stdout",
     "output_type": "stream",
     "text": [
      "Running experiment no.0\n",
      "Running experiment no.1\n",
      "Running experiment no.2\n",
      "Running experiment no.3\n",
      "Running experiment no.4\n"
     ]
    }
   ],
   "source": [
    "NN = TwoLayersNN(X,y)\n",
    "iterations_numbers = list(range(1, 20000, 250))\n",
    "\n",
    "global_results = []\n",
    "\n",
    "for i in range(5):\n",
    "    print(\"Running experiment no.{}\".format(i))\n",
    "    global_results.append(slope_singularity_exp(iterations_numbers, NN))\n",
    "    "
   ]
  },
  {
   "cell_type": "code",
   "execution_count": 10,
   "metadata": {
    "collapsed": false
   },
   "outputs": [
    {
     "data": {
      "image/png": "[encoded data removed]",
      "text/plain": [
       "<matplotlib.figure.Figure at 0x7f10e53034a8>"
      ]
     },
     "metadata": {},
     "output_type": "display_data"
    }
   ],
   "source": [
    "plt.figure()\n",
    "plt.hold(True)\n",
    "for res in global_results:\n",
    "    plt.loglog(iterations_numbers, res)\n",
    "\n",
    "plt.grid(True)\n",
    "plt.xlabel(\"Number of iterations\")\n",
    "plt.ylabel(\"Error as |y-l1|^2\")\n",
    "plt.show()"
   ]
  },
  {
   "cell_type": "markdown",
   "metadata": {},
   "source": [
    "The hypothesis that using a single NN instead of one per run  would reduce dispersion at low training iterations numbers isn't verified. The second (and better) hypothesis is that this dispersion is only related to the random initialization of synapses... it seems plausible but the deviation is quite big though....\n",
    "\n",
    "To answer the questions above : the bend point seems stable with respect to number of iterations and error, no matter if we use one or several NN. $\\Leftarrow$ **Answer lies in maths**\n",
    "\n",
    "The second goal was to implement an error controled training process : let's modify the TwoLayersNN class."
   ]
  },
  {
   "cell_type": "code",
   "execution_count": 56,
   "metadata": {
    "collapsed": false
   },
   "outputs": [],
   "source": [
    "class TwoLayersNN:\n",
    "    \n",
    "    def __init__(self, in_data, out_data):\n",
    "        \n",
    "        self.in_data = in_data\n",
    "        self.out_data = out_data\n",
    "        \n",
    "        self._init_synapses()\n",
    "        \n",
    "    def _init_synapses(self):\n",
    "        \n",
    "        self.syn0 = 2*np.random.random((len(self.in_data[0]), len(self.out_data[0]))) - 1\n",
    "        self.trained = False\n",
    "        \n",
    "        \n",
    "    def NL(self, x, deriv=False):\n",
    "        \n",
    "        if(deriv==True):\n",
    "            return x*(1-x)\n",
    "        return 1/(1+np.exp(-x))\n",
    "                \n",
    "    def train(self, condition=lambda _: False, verbose=False):\n",
    "                    \n",
    "        if self.trained:\n",
    "            self._init_synapses()\n",
    "        \n",
    "        self.training_iter = 0\n",
    "        while condition(self):\n",
    "            if verbose: print('Counter : {}'.format(self.training_iter))\n",
    "            l0 = self.in_data\n",
    "            l1 = self.NL(np.dot(l0, self.syn0))\n",
    "            \n",
    "            l1_error = self.out_data - l1\n",
    "            l1_delta = l1_error*self.NL(l1, True)\n",
    "            \n",
    "            self.syn0 += np.dot(l0.T, l1_delta)\n",
    "            \n",
    "            self.training_iter += 1\n",
    "            \n",
    "        self.trained = True\n",
    "        return self.syn0\n",
    "    \n",
    "    def train_iter(self, iter_nb):\n",
    "        self.train(lambda x: x.training_iter < iter_nb)\n",
    "        \n",
    "    def train_error(self, goal_error, *a, **kw):\n",
    "        self.train(lambda s: (s.training_iter < 10000) or (np.mean(np.power(np.abs(self.out_data- s.test(self.in_data)), 2)) > goal_error), *a, **kw)\n",
    "    \n",
    "    def test(self, in_data, batch=True):\n",
    "        \n",
    "        if not batch:\n",
    "            in_data = [in_data]\n",
    "            \n",
    "        return self.NL(np.dot(in_data, self.syn0))"
   ]
  },
  {
   "cell_type": "code",
   "execution_count": 19,
   "metadata": {
    "collapsed": false
   },
   "outputs": [
    {
     "ename": "KeyboardInterrupt",
     "evalue": "",
     "output_type": "error",
     "traceback": [
      "\u001b[1;31m---------------------------------------------------------------------------\u001b[0m",
      "\u001b[1;31mKeyboardInterrupt\u001b[0m                         Traceback (most recent call last)",
      "\u001b[1;32m<ipython-input-19-d9cfad1c0c83>\u001b[0m in \u001b[0;36m<module>\u001b[1;34m()\u001b[0m\n\u001b[0;32m      1\u001b[0m \u001b[0mNN\u001b[0m \u001b[1;33m=\u001b[0m \u001b[0mTwoLayersNN\u001b[0m\u001b[1;33m(\u001b[0m\u001b[0mX\u001b[0m\u001b[1;33m,\u001b[0m\u001b[0my\u001b[0m\u001b[1;33m)\u001b[0m\u001b[1;33m\u001b[0m\u001b[0m\n\u001b[1;32m----> 2\u001b[1;33m \u001b[0mNN\u001b[0m\u001b[1;33m.\u001b[0m\u001b[0mtrain_error\u001b[0m\u001b[1;33m(\u001b[0m\u001b[1;36m1e-5\u001b[0m\u001b[1;33m)\u001b[0m\u001b[1;33m\u001b[0m\u001b[0m\n\u001b[0m\u001b[0;32m      3\u001b[0m \u001b[0mmean_error\u001b[0m \u001b[1;33m=\u001b[0m \u001b[0mnp\u001b[0m\u001b[1;33m.\u001b[0m\u001b[0mmean\u001b[0m\u001b[1;33m(\u001b[0m\u001b[0mnp\u001b[0m\u001b[1;33m.\u001b[0m\u001b[0mpower\u001b[0m\u001b[1;33m(\u001b[0m\u001b[0mnp\u001b[0m\u001b[1;33m.\u001b[0m\u001b[0mabs\u001b[0m\u001b[1;33m(\u001b[0m\u001b[0my\u001b[0m\u001b[1;33m-\u001b[0m \u001b[0mNN\u001b[0m\u001b[1;33m.\u001b[0m\u001b[0mtest\u001b[0m\u001b[1;33m(\u001b[0m\u001b[0mX\u001b[0m\u001b[1;33m)\u001b[0m\u001b[1;33m)\u001b[0m\u001b[1;33m,\u001b[0m \u001b[1;36m2\u001b[0m\u001b[1;33m)\u001b[0m\u001b[1;33m)\u001b[0m\u001b[1;33m\u001b[0m\u001b[0m\n\u001b[0;32m      4\u001b[0m \u001b[1;33m\u001b[0m\u001b[0m\n\u001b[0;32m      5\u001b[0m \u001b[0mprint\u001b[0m\u001b[1;33m(\u001b[0m\u001b[1;34m'Mean error : {}'\u001b[0m\u001b[1;33m.\u001b[0m\u001b[0mformat\u001b[0m\u001b[1;33m(\u001b[0m\u001b[0mmean_error\u001b[0m\u001b[1;33m)\u001b[0m\u001b[1;33m)\u001b[0m\u001b[1;33m\u001b[0m\u001b[0m\n",
      "\u001b[1;32m<ipython-input-18-7ac3b64f6496>\u001b[0m in \u001b[0;36mtrain_error\u001b[1;34m(self, goal_error, *a, **kw)\u001b[0m\n\u001b[0;32m     45\u001b[0m \u001b[1;33m\u001b[0m\u001b[0m\n\u001b[0;32m     46\u001b[0m     \u001b[1;32mdef\u001b[0m \u001b[0mtrain_error\u001b[0m\u001b[1;33m(\u001b[0m\u001b[0mself\u001b[0m\u001b[1;33m,\u001b[0m \u001b[0mgoal_error\u001b[0m\u001b[1;33m,\u001b[0m \u001b[1;33m*\u001b[0m\u001b[0ma\u001b[0m\u001b[1;33m,\u001b[0m \u001b[1;33m**\u001b[0m\u001b[0mkw\u001b[0m\u001b[1;33m)\u001b[0m\u001b[1;33m:\u001b[0m\u001b[1;33m\u001b[0m\u001b[0m\n\u001b[1;32m---> 47\u001b[1;33m         \u001b[0mself\u001b[0m\u001b[1;33m.\u001b[0m\u001b[0mtrain\u001b[0m\u001b[1;33m(\u001b[0m\u001b[1;32mlambda\u001b[0m \u001b[0ms\u001b[0m\u001b[1;33m:\u001b[0m \u001b[1;33m(\u001b[0m\u001b[0ms\u001b[0m\u001b[1;33m.\u001b[0m\u001b[0mtraining_iter\u001b[0m \u001b[1;33m<\u001b[0m \u001b[1;36m10000\u001b[0m\u001b[1;33m)\u001b[0m \u001b[1;32mor\u001b[0m \u001b[1;33m(\u001b[0m\u001b[0mnp\u001b[0m\u001b[1;33m.\u001b[0m\u001b[0mmean\u001b[0m\u001b[1;33m(\u001b[0m\u001b[0mnp\u001b[0m\u001b[1;33m.\u001b[0m\u001b[0mpower\u001b[0m\u001b[1;33m(\u001b[0m\u001b[0mnp\u001b[0m\u001b[1;33m.\u001b[0m\u001b[0mabs\u001b[0m\u001b[1;33m(\u001b[0m\u001b[0mself\u001b[0m\u001b[1;33m.\u001b[0m\u001b[0mout_data\u001b[0m\u001b[1;33m-\u001b[0m \u001b[0ms\u001b[0m\u001b[1;33m.\u001b[0m\u001b[0mtest\u001b[0m\u001b[1;33m(\u001b[0m\u001b[0mself\u001b[0m\u001b[1;33m.\u001b[0m\u001b[0min_data\u001b[0m\u001b[1;33m)\u001b[0m\u001b[1;33m)\u001b[0m\u001b[1;33m,\u001b[0m \u001b[1;36m2\u001b[0m\u001b[1;33m)\u001b[0m\u001b[1;33m)\u001b[0m \u001b[1;33m>\u001b[0m \u001b[0mgoal_error\u001b[0m\u001b[1;33m)\u001b[0m\u001b[1;33m,\u001b[0m \u001b[1;33m*\u001b[0m\u001b[0ma\u001b[0m\u001b[1;33m,\u001b[0m \u001b[1;33m**\u001b[0m\u001b[0mkw\u001b[0m\u001b[1;33m)\u001b[0m\u001b[1;33m\u001b[0m\u001b[0m\n\u001b[0m\u001b[0;32m     48\u001b[0m \u001b[1;33m\u001b[0m\u001b[0m\n\u001b[0;32m     49\u001b[0m     \u001b[1;32mdef\u001b[0m \u001b[0mtest\u001b[0m\u001b[1;33m(\u001b[0m\u001b[0mself\u001b[0m\u001b[1;33m,\u001b[0m \u001b[0min_data\u001b[0m\u001b[1;33m,\u001b[0m \u001b[0mbatch\u001b[0m\u001b[1;33m=\u001b[0m\u001b[1;32mTrue\u001b[0m\u001b[1;33m)\u001b[0m\u001b[1;33m:\u001b[0m\u001b[1;33m\u001b[0m\u001b[0m\n",
      "\u001b[1;32m<ipython-input-18-7ac3b64f6496>\u001b[0m in \u001b[0;36mtrain\u001b[1;34m(self, condition, verbose)\u001b[0m\n\u001b[0;32m     26\u001b[0m \u001b[1;33m\u001b[0m\u001b[0m\n\u001b[0;32m     27\u001b[0m         \u001b[0mself\u001b[0m\u001b[1;33m.\u001b[0m\u001b[0mtraining_iter\u001b[0m \u001b[1;33m=\u001b[0m \u001b[1;36m0\u001b[0m\u001b[1;33m\u001b[0m\u001b[0m\n\u001b[1;32m---> 28\u001b[1;33m         \u001b[1;32mwhile\u001b[0m \u001b[0mcondition\u001b[0m\u001b[1;33m(\u001b[0m\u001b[0mself\u001b[0m\u001b[1;33m)\u001b[0m\u001b[1;33m:\u001b[0m\u001b[1;33m\u001b[0m\u001b[0m\n\u001b[0m\u001b[0;32m     29\u001b[0m             \u001b[1;32mif\u001b[0m \u001b[0mverbose\u001b[0m\u001b[1;33m:\u001b[0m \u001b[0mprint\u001b[0m\u001b[1;33m(\u001b[0m\u001b[1;34m'Counter : {}'\u001b[0m\u001b[1;33m.\u001b[0m\u001b[0mformat\u001b[0m\u001b[1;33m(\u001b[0m\u001b[0mself\u001b[0m\u001b[1;33m.\u001b[0m\u001b[0mtraining_iter\u001b[0m\u001b[1;33m)\u001b[0m\u001b[1;33m)\u001b[0m\u001b[1;33m\u001b[0m\u001b[0m\n\u001b[0;32m     30\u001b[0m             \u001b[0ml0\u001b[0m \u001b[1;33m=\u001b[0m \u001b[0mself\u001b[0m\u001b[1;33m.\u001b[0m\u001b[0min_data\u001b[0m\u001b[1;33m\u001b[0m\u001b[0m\n",
      "\u001b[1;32m<ipython-input-18-7ac3b64f6496>\u001b[0m in \u001b[0;36m<lambda>\u001b[1;34m(s)\u001b[0m\n\u001b[0;32m     45\u001b[0m \u001b[1;33m\u001b[0m\u001b[0m\n\u001b[0;32m     46\u001b[0m     \u001b[1;32mdef\u001b[0m \u001b[0mtrain_error\u001b[0m\u001b[1;33m(\u001b[0m\u001b[0mself\u001b[0m\u001b[1;33m,\u001b[0m \u001b[0mgoal_error\u001b[0m\u001b[1;33m,\u001b[0m \u001b[1;33m*\u001b[0m\u001b[0ma\u001b[0m\u001b[1;33m,\u001b[0m \u001b[1;33m**\u001b[0m\u001b[0mkw\u001b[0m\u001b[1;33m)\u001b[0m\u001b[1;33m:\u001b[0m\u001b[1;33m\u001b[0m\u001b[0m\n\u001b[1;32m---> 47\u001b[1;33m         \u001b[0mself\u001b[0m\u001b[1;33m.\u001b[0m\u001b[0mtrain\u001b[0m\u001b[1;33m(\u001b[0m\u001b[1;32mlambda\u001b[0m \u001b[0ms\u001b[0m\u001b[1;33m:\u001b[0m \u001b[1;33m(\u001b[0m\u001b[0ms\u001b[0m\u001b[1;33m.\u001b[0m\u001b[0mtraining_iter\u001b[0m \u001b[1;33m<\u001b[0m \u001b[1;36m10000\u001b[0m\u001b[1;33m)\u001b[0m \u001b[1;32mor\u001b[0m \u001b[1;33m(\u001b[0m\u001b[0mnp\u001b[0m\u001b[1;33m.\u001b[0m\u001b[0mmean\u001b[0m\u001b[1;33m(\u001b[0m\u001b[0mnp\u001b[0m\u001b[1;33m.\u001b[0m\u001b[0mpower\u001b[0m\u001b[1;33m(\u001b[0m\u001b[0mnp\u001b[0m\u001b[1;33m.\u001b[0m\u001b[0mabs\u001b[0m\u001b[1;33m(\u001b[0m\u001b[0mself\u001b[0m\u001b[1;33m.\u001b[0m\u001b[0mout_data\u001b[0m\u001b[1;33m-\u001b[0m \u001b[0ms\u001b[0m\u001b[1;33m.\u001b[0m\u001b[0mtest\u001b[0m\u001b[1;33m(\u001b[0m\u001b[0mself\u001b[0m\u001b[1;33m.\u001b[0m\u001b[0min_data\u001b[0m\u001b[1;33m)\u001b[0m\u001b[1;33m)\u001b[0m\u001b[1;33m,\u001b[0m \u001b[1;36m2\u001b[0m\u001b[1;33m)\u001b[0m\u001b[1;33m)\u001b[0m \u001b[1;33m>\u001b[0m \u001b[0mgoal_error\u001b[0m\u001b[1;33m)\u001b[0m\u001b[1;33m,\u001b[0m \u001b[1;33m*\u001b[0m\u001b[0ma\u001b[0m\u001b[1;33m,\u001b[0m \u001b[1;33m**\u001b[0m\u001b[0mkw\u001b[0m\u001b[1;33m)\u001b[0m\u001b[1;33m\u001b[0m\u001b[0m\n\u001b[0m\u001b[0;32m     48\u001b[0m \u001b[1;33m\u001b[0m\u001b[0m\n\u001b[0;32m     49\u001b[0m     \u001b[1;32mdef\u001b[0m \u001b[0mtest\u001b[0m\u001b[1;33m(\u001b[0m\u001b[0mself\u001b[0m\u001b[1;33m,\u001b[0m \u001b[0min_data\u001b[0m\u001b[1;33m,\u001b[0m \u001b[0mbatch\u001b[0m\u001b[1;33m=\u001b[0m\u001b[1;32mTrue\u001b[0m\u001b[1;33m)\u001b[0m\u001b[1;33m:\u001b[0m\u001b[1;33m\u001b[0m\u001b[0m\n",
      "\u001b[1;32m/usr/lib/python3.4/site-packages/numpy/core/fromnumeric.py\u001b[0m in \u001b[0;36mmean\u001b[1;34m(a, axis, dtype, out, keepdims)\u001b[0m\n\u001b[0;32m   2733\u001b[0m \u001b[1;33m\u001b[0m\u001b[0m\n\u001b[0;32m   2734\u001b[0m     return _methods._mean(a, axis=axis, dtype=dtype,\n\u001b[1;32m-> 2735\u001b[1;33m                             out=out, keepdims=keepdims)\n\u001b[0m\u001b[0;32m   2736\u001b[0m \u001b[1;33m\u001b[0m\u001b[0m\n\u001b[0;32m   2737\u001b[0m \u001b[1;32mdef\u001b[0m \u001b[0mstd\u001b[0m\u001b[1;33m(\u001b[0m\u001b[0ma\u001b[0m\u001b[1;33m,\u001b[0m \u001b[0maxis\u001b[0m\u001b[1;33m=\u001b[0m\u001b[1;32mNone\u001b[0m\u001b[1;33m,\u001b[0m \u001b[0mdtype\u001b[0m\u001b[1;33m=\u001b[0m\u001b[1;32mNone\u001b[0m\u001b[1;33m,\u001b[0m \u001b[0mout\u001b[0m\u001b[1;33m=\u001b[0m\u001b[1;32mNone\u001b[0m\u001b[1;33m,\u001b[0m \u001b[0mddof\u001b[0m\u001b[1;33m=\u001b[0m\u001b[1;36m0\u001b[0m\u001b[1;33m,\u001b[0m \u001b[0mkeepdims\u001b[0m\u001b[1;33m=\u001b[0m\u001b[1;32mFalse\u001b[0m\u001b[1;33m)\u001b[0m\u001b[1;33m:\u001b[0m\u001b[1;33m\u001b[0m\u001b[0m\n",
      "\u001b[1;32m/usr/lib/python3.4/site-packages/numpy/core/_methods.py\u001b[0m in \u001b[0;36m_mean\u001b[1;34m(a, axis, dtype, out, keepdims)\u001b[0m\n\u001b[0;32m     54\u001b[0m     \u001b[0marr\u001b[0m \u001b[1;33m=\u001b[0m \u001b[0masanyarray\u001b[0m\u001b[1;33m(\u001b[0m\u001b[0ma\u001b[0m\u001b[1;33m)\u001b[0m\u001b[1;33m\u001b[0m\u001b[0m\n\u001b[0;32m     55\u001b[0m \u001b[1;33m\u001b[0m\u001b[0m\n\u001b[1;32m---> 56\u001b[1;33m     \u001b[0mrcount\u001b[0m \u001b[1;33m=\u001b[0m \u001b[0m_count_reduce_items\u001b[0m\u001b[1;33m(\u001b[0m\u001b[0marr\u001b[0m\u001b[1;33m,\u001b[0m \u001b[0maxis\u001b[0m\u001b[1;33m)\u001b[0m\u001b[1;33m\u001b[0m\u001b[0m\n\u001b[0m\u001b[0;32m     57\u001b[0m     \u001b[1;31m# Make this warning show up first\u001b[0m\u001b[1;33m\u001b[0m\u001b[1;33m\u001b[0m\u001b[0m\n\u001b[0;32m     58\u001b[0m     \u001b[1;32mif\u001b[0m \u001b[0mrcount\u001b[0m \u001b[1;33m==\u001b[0m \u001b[1;36m0\u001b[0m\u001b[1;33m:\u001b[0m\u001b[1;33m\u001b[0m\u001b[0m\n",
      "\u001b[1;32m/usr/lib/python3.4/site-packages/numpy/core/_methods.py\u001b[0m in \u001b[0;36m_count_reduce_items\u001b[1;34m(arr, axis)\u001b[0m\n\u001b[0;32m     43\u001b[0m \u001b[1;32mdef\u001b[0m \u001b[0m_count_reduce_items\u001b[0m\u001b[1;33m(\u001b[0m\u001b[0marr\u001b[0m\u001b[1;33m,\u001b[0m \u001b[0maxis\u001b[0m\u001b[1;33m)\u001b[0m\u001b[1;33m:\u001b[0m\u001b[1;33m\u001b[0m\u001b[0m\n\u001b[0;32m     44\u001b[0m     \u001b[1;32mif\u001b[0m \u001b[0maxis\u001b[0m \u001b[1;32mis\u001b[0m \u001b[1;32mNone\u001b[0m\u001b[1;33m:\u001b[0m\u001b[1;33m\u001b[0m\u001b[0m\n\u001b[1;32m---> 45\u001b[1;33m         \u001b[0maxis\u001b[0m \u001b[1;33m=\u001b[0m \u001b[0mtuple\u001b[0m\u001b[1;33m(\u001b[0m\u001b[0mrange\u001b[0m\u001b[1;33m(\u001b[0m\u001b[0marr\u001b[0m\u001b[1;33m.\u001b[0m\u001b[0mndim\u001b[0m\u001b[1;33m)\u001b[0m\u001b[1;33m)\u001b[0m\u001b[1;33m\u001b[0m\u001b[0m\n\u001b[0m\u001b[0;32m     46\u001b[0m     \u001b[1;32mif\u001b[0m \u001b[1;32mnot\u001b[0m \u001b[0misinstance\u001b[0m\u001b[1;33m(\u001b[0m\u001b[0maxis\u001b[0m\u001b[1;33m,\u001b[0m \u001b[0mtuple\u001b[0m\u001b[1;33m)\u001b[0m\u001b[1;33m:\u001b[0m\u001b[1;33m\u001b[0m\u001b[0m\n\u001b[0;32m     47\u001b[0m         \u001b[0maxis\u001b[0m \u001b[1;33m=\u001b[0m \u001b[1;33m(\u001b[0m\u001b[0maxis\u001b[0m\u001b[1;33m,\u001b[0m\u001b[1;33m)\u001b[0m\u001b[1;33m\u001b[0m\u001b[0m\n",
      "\u001b[1;31mKeyboardInterrupt\u001b[0m: "
     ]
    }
   ],
   "source": [
    "NN = TwoLayersNN(X,y)\n",
    "NN.train_error(1e-5)\n",
    "mean_error = np.mean(np.power(np.abs(y- NN.test(X)), 2))\n",
    "\n",
    "print('Mean error : {}'.format(mean_error))"
   ]
  },
  {
   "cell_type": "markdown",
   "metadata": {},
   "source": [
    "3 Layers NN\n",
    "----------"
   ]
  },
  {
   "cell_type": "code",
   "execution_count": 20,
   "metadata": {
    "collapsed": false
   },
   "outputs": [
    {
     "name": "stdout",
     "output_type": "stream",
     "text": [
      "Error:0.496410031903\n",
      "Error:0.00858452565325\n",
      "Error:0.00578945986251\n",
      "Error:0.00462917677677\n",
      "Error:0.00395876528027\n",
      "Error:0.00351012256786\n"
     ]
    }
   ],
   "source": [
    "import numpy as np\n",
    "\n",
    "def nonlin(x,deriv=False):\n",
    "\tif(deriv==True):\n",
    "\t    return x*(1-x)\n",
    "\treturn 1/(1+np.exp(-x))\n",
    "    \n",
    "X = np.array([\n",
    "    [0,0,1],\n",
    "    [0,1,1],\n",
    "    [1,0,1],\n",
    "    [1,1,1]\n",
    "])\n",
    "                \n",
    "y = np.array([\n",
    "    [0],\n",
    "\t[1],\n",
    "\t[1],\n",
    "\t[0]\n",
    "])\n",
    "\n",
    "np.random.seed(1)\n",
    "\n",
    "# randomly initialize our weights with mean 0\n",
    "syn0 = 2*np.random.random((3,4)) - 1\n",
    "syn1 = 2*np.random.random((4,1)) - 1\n",
    "\n",
    "for j in range(60000):\n",
    "\n",
    "\t# Feed forward through layers 0, 1, and 2\n",
    "    l0 = X\n",
    "    l1 = nonlin(np.dot(l0,syn0))\n",
    "    l2 = nonlin(np.dot(l1,syn1))\n",
    "\n",
    "    # how much did we miss the target value?\n",
    "    l2_error = y - l2\n",
    "    \n",
    "    if (j% 10000) == 0:\n",
    "        print(\"Error:\" + str(np.mean(np.abs(l2_error))))\n",
    "        \n",
    "    # in what direction is the target value?\n",
    "    # were we really sure? if so, don't change too much.\n",
    "    l2_delta = l2_error*nonlin(l2,deriv=True)\n",
    "\n",
    "    # how much did each l1 value contribute to the l2 error (according to the weights)?\n",
    "    l1_error = l2_delta.dot(syn1.T)\n",
    "    \n",
    "    # in what direction is the target l1?\n",
    "    # were we really sure? if so, don't change too much.\n",
    "    l1_delta = l1_error * nonlin(l1,deriv=True)\n",
    "\n",
    "    syn1 += l1.T.dot(l2_delta)\n",
    "    syn0 += l0.T.dot(l1_delta)\n",
    "\n"
   ]
  },
  {
   "cell_type": "markdown",
   "metadata": {},
   "source": [
    "## OO Implementation\n"
   ]
  },
  {
   "cell_type": "code",
   "execution_count": 48,
   "metadata": {
    "collapsed": true
   },
   "outputs": [],
   "source": [
    "import numpy as np\n",
    "\n",
    "class DeepNetwork:\n",
    "    \"\"\"\n",
    "    Simple implementation of configurable DNN.\n",
    "    Number of layers and training data can be specified.\n",
    "\n",
    "    Layers must be specified using a list-based approach :\n",
    "\n",
    "        layers = [\n",
    "            nb of neurons on first layer (in),\n",
    "            nb of neurons on second layer,\n",
    "            # ...\n",
    "            nb of neurons on last layer (out)\n",
    "        ]\n",
    "\n",
    "        Synapses will be created accordingly.\n",
    "\n",
    "    \"\"\"\n",
    "    # TODO Allow modification of synapses to reflect network goal development\n",
    "\n",
    "    def __init__(self, lsizes, in_data, out_data):\n",
    "\n",
    "        self.in_data = in_data\n",
    "        self.out_data = out_data\n",
    "\n",
    "        self.lsizes = lsizes\n",
    "        self.lnb = len(self.lsizes)\n",
    "\n",
    "        self._init_synapses()\n",
    "\n",
    "    def _init_synapses(self):\n",
    "        self.synapses = []\n",
    "        for l in range(1,self.lnb):\n",
    "            self.synapses.append(\n",
    "                2*np.random.random((self.lsizes[l-1], self.lsizes[l]))-1\n",
    "            )\n",
    "\n",
    "        self.trained = False\n",
    "\n",
    "\n",
    "    def NL(self, x, deriv=False):\n",
    "\n",
    "        if(deriv==True):\n",
    "            return x*(1-x)\n",
    "        return 1/(1+np.exp(-x))\n",
    "\n",
    "    def train(self, condition=lambda _: False, verbose=False):\n",
    "\n",
    "        if self.trained:\n",
    "            self._init_synapses()\n",
    "\n",
    "        self.training_iter = 0\n",
    "\n",
    "        L = [[] for i in self.lsizes]\n",
    "        while condition(self):\n",
    "            if verbose: print('Counter : {}'.format(self.training_iter))\n",
    "                \n",
    "            # forward propagation\n",
    "            L[0] = self.in_data\n",
    "            for i in range(1,self.lnb):\n",
    "                L[i] = self.NL(np.dot(L[i-1], self.synapses[i-1]))\n",
    "\n",
    "            if self.lnb==2:\n",
    "                l1_error = self.out_data - L[1]\n",
    "                l1_delta = l1_error*self.NL(L[1], True)\n",
    "            \n",
    "                self.synapses[0] += np.dot(L[0].T, l1_delta)\n",
    "            \n",
    "            else:\n",
    "                \n",
    "                # backpropagation & synapses regression\n",
    "                L_err = [0 for i in range(self.lnb)]\n",
    "                L_delta = [0 for i in range(self.lnb)]\n",
    "\n",
    "                # initialize recur relation on the last element\n",
    "                L_err[-1] = self.out_data - L[-1]\n",
    "                L_delta[-1] = L_err[-1]*self.NL(L[-1], True)\n",
    "            \n",
    "                # element-wise backpropagation\n",
    "                for i in reversed(range(self.lnb-1)):\n",
    "                    L_err[i] = np.dot(L_delta[i+1], self.synapses[i].T)\n",
    "                    L_delta[i] = L_err[i]*self.NL(L[i], True)\n",
    "                    self.synapses[i] += np.dot(L[i].T, L_delta[i+1])\n",
    "\n",
    "            self.training_iter += 1\n",
    "\n",
    "        self.trained = True\n",
    "        return self.synapses\n",
    "\n",
    "    def train_iter(self, iter_nb):\n",
    "        return self.train(lambda x: x.training_iter < iter_nb)\n",
    "\n",
    "    def train_error(self, goal_error, *a, **kw):\n",
    "        self.train(lambda s: (s.training_iter < 10000) or (np.mean(np.power(np.abs(self.out_data- s.test(self.in_data)), 2)) > goal_error), *a, **kw)\n",
    "\n",
    "    def test(self, in_data, batch=True):\n",
    "        if not batch:\n",
    "            in_data = [in_data]\n",
    "\n",
    "        L = [[] for i in self.lsizes]\n",
    "        L[0] = self.in_data\n",
    "        for i in range(1,self.lnb):\n",
    "            L[i] = self.NL(np.dot(L[i-1], self.synapses[i-1]))\n",
    "            \n",
    "        return L[-1]\n"
   ]
  },
  {
   "cell_type": "code",
   "execution_count": 59,
   "metadata": {
    "collapsed": false
   },
   "outputs": [
    {
     "name": "stdout",
     "output_type": "stream",
     "text": [
      "[ 0.5] [ 0.5] [ 0.5] [ 0.5]\n",
      "[ 0.5] [ 0.5] [ 0.5] [ 0.5]\n"
     ]
    }
   ],
   "source": [
    "import numpy as np\n",
    "np.random.seed(1)\n",
    "#from DNN import DeepNetwork\n",
    "    \n",
    "X = np.array([\n",
    "    [0,0,1],\n",
    "    [0,1,1],\n",
    "    [1,0,1],\n",
    "    [1,1,1]\n",
    "])\n",
    "                \n",
    "y = np.array([\n",
    "    [0],\n",
    "\t[1],\n",
    "\t[1],\n",
    "\t[0]\n",
    "])\n",
    "\n",
    "NN = DeepNetwork([3,1], X, y)\n",
    "NN.train_iter(10000)\n",
    "print(' '.join(map(str, NN.test(X))))\n",
    "\n",
    "NN2 = TwoLayersNN(X,y)\n",
    "NN2.train_iter(10000)\n",
    "print(' '.join(map(str, NN2.test(X))))"
   ]
  },
  {
   "cell_type": "markdown",
   "metadata": {
    "collapsed": false
   },
   "source": [
    "### Experiments\n",
    "\n",
    "The goal is now to exhibt convergence properties of Deep Neural Network.\n",
    "\n",
    "To reach this goal, it is proposed to compare convergence diagrams for $n$-layers NN ($2 \\leq n \\leq 5$) in different configurations :\n",
    "\n",
    "- first, on the same training dataset, we study the influence of the number \n",
    "of layers (first and last layers are of equal size for all networks on benchmark, hidden layers are of size $\\max(s_{first}, s_{last}) +1$ where $s_i$ is the size (number of neurons) of the layer $i$\n",
    "- second we run the same experiements as for the 2 layers NN but on differently sized networks"
   ]
  },
  {
   "cell_type": "markdown",
   "metadata": {
    "collapsed": false
   },
   "source": [
    "### other ideas\n",
    "\n",
    "- adaptability : change the training set and see how much it takes for the NN to change the weight\n",
    "- placticity : remove one or more neurons on hidden layers and see how the results are impacted\n",
    "\n"
   ]
  },
  {
   "cell_type": "code",
   "execution_count": 50,
   "metadata": {
    "collapsed": false,
    "scrolled": true
   },
   "outputs": [
    {
     "name": "stdout",
     "output_type": "stream",
     "text": [
      "Training on 1 iterations : 0... 1... 2... 3... \n",
      "Training on 501 iterations : 0... 1... 2... 3... \n",
      "Training on 1001 iterations : 0... 1... 2... 3... \n",
      "Training on 1501 iterations : 0... 1... 2... 3... \n",
      "Training on 2001 iterations : 0... 1... 2... 3... \n",
      "Training on 2501 iterations : 0... 1... 2... 3... \n",
      "Training on 3001 iterations : 0... 1... 2... 3... \n",
      "Training on 3501 iterations : 0... 1... 2... 3... \n",
      "Training on 4001 iterations : 0... 1... 2... 3... \n",
      "Training on 4501 iterations : 0... 1... 2... 3... \n",
      "Training on 5001 iterations : 0... 1... 2... 3... \n",
      "Training on 5501 iterations : 0... 1... 2... 3... \n",
      "Training on 6001 iterations : 0... 1... 2... 3... \n",
      "Training on 6501 iterations : 0... 1... 2... 3... \n",
      "Training on 7001 iterations : 0... 1... 2... 3... \n",
      "Training on 7501 iterations : 0... 1... 2... 3... \n",
      "Training on 8001 iterations : 0... 1... 2... 3... \n",
      "Training on 8501 iterations : 0... 1... 2... 3... \n",
      "Training on 9001 iterations : 0... 1... 2... 3... \n",
      "Training on 9501 iterations : 0... 1... 2... 3... \n",
      "Training on 10001 iterations : 0... 1... 2... 3... \n",
      "Training on 10501 iterations : 0... 1... 2... 3... \n",
      "Training on 11001 iterations : 0... 1... 2... 3... \n",
      "Training on 11501 iterations : 0... 1... 2... 3... \n",
      "Training on 12001 iterations : 0... 1... 2... 3... \n",
      "Training on 12501 iterations : 0... 1... 2... 3... \n",
      "Training on 13001 iterations : 0... 1... 2... 3... \n",
      "Training on 13501 iterations : 0... 1... 2... 3... \n",
      "Training on 14001 iterations : 0... 1... 2... 3... \n",
      "Training on 14501 iterations : 0... 1... 2... 3... \n",
      "Training on 15001 iterations : 0... 1... 2... 3... \n",
      "Training on 15501 iterations : 0... 1... 2... 3... \n",
      "Training on 16001 iterations : 0... 1... 2... 3... \n",
      "Training on 16501 iterations : 0... 1... 2... 3... \n",
      "Training on 17001 iterations : 0... 1... 2... 3... \n",
      "Training on 17501 iterations : 0... 1... 2... 3... \n",
      "Training on 18001 iterations : 0... 1... 2... 3... \n",
      "Training on 18501 iterations : 0... 1... 2... 3... \n",
      "Training on 19001 iterations : 0... 1... 2... 3... \n",
      "Training on 19501 iterations : 0... 1... 2... 3... \n"
     ]
    }
   ],
   "source": [
    "iterations_numbers = list(range(1, 20000, 500))\n",
    "results = [[] for _ in range(2,6)]\n",
    "NN_list = [DeepNetwork(_, X, y) for _ in [[3,1], [3,4,1], [3,4,4,1], [3,4,4,4,1]]]\n",
    "listlen = len(NN_list)\n",
    "\n",
    "for it in iterations_numbers:\n",
    "    print('Training on {} iterations : '.format(it), end='')\n",
    "    for i in range(listlen):\n",
    "        print('{}... '.format(i), end='')\n",
    "        NN_list[i].train_iter(it)\n",
    "        guesses = NN_list[i].test(X)\n",
    "        results[i].append(np.mean(np.power(np.abs(y - guesses), 2)))\n",
    "    print('')\n",
    "    "
   ]
  },
  {
   "cell_type": "code",
   "execution_count": 51,
   "metadata": {
    "collapsed": false
   },
   "outputs": [
    {
     "data": {
      "image/png": "[encoded data removed]",
      "text/plain": [
       "<matplotlib.figure.Figure at 0x7f257da02d68>"
      ]
     },
     "metadata": {},
     "output_type": "display_data"
    }
   ],
   "source": [
    "plt.figure()\n",
    "plt.hold(True)\n",
    "for i in range(listlen):\n",
    "    plt.loglog(iterations_numbers, results[i])\n",
    "    \n",
    "plt.xlabel('Number of iterations')\n",
    "plt.ylabel('Error |y - l1|^2')\n",
    "plt.grid(True)\n",
    "plt.legend([\"{} layers\".format(NN_list[_].lnb) for _ in range(listlen)], loc='lower left')\n",
    "plt.show()"
   ]
  }
 ],
 "metadata": {
  "kernelspec": {
   "display_name": "Python 3",
   "language": "python",
   "name": "python3"
  },
  "language_info": {
   "codemirror_mode": {
    "name": "ipython",
    "version": 3
   },
   "file_extension": ".py",
   "mimetype": "text/x-python",
   "name": "python",
   "nbconvert_exporter": "python",
   "pygments_lexer": "ipython3",
   "version": "3.4.3"
  }
 },
 "nbformat": 4,
 "nbformat_minor": 0
}
